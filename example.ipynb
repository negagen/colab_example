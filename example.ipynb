{
  "cells": [
    {
      "cell_type": "markdown",
      "metadata": {
        "id": "50q7RJnCmx2U"
      },
      "source": [
        "# Example of using GitHub + Colab\n",
        "\n",
        "Hello to everyone reading this notebook! This is an example of using GitHub with Google Colab."
      ]
    }
  ],
  "metadata": {
    "language_info": {
      "name": "python"
    },
    "colab": {
      "provenance": [],
      "toc_visible": true
    },
    "kernelspec": {
      "name": "python3",
      "display_name": "Python 3"
    }
  },
  "nbformat": 4,
  "nbformat_minor": 0
}